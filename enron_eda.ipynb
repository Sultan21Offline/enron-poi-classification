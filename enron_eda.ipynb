{
 "cells": [
  {
   "cell_type": "markdown",
   "metadata": {},
   "source": [
    "# UD120 - Classifing Enron POIs"
   ]
  },
  {
   "cell_type": "markdown",
   "metadata": {},
   "source": [
    "## Introduction"
   ]
  },
  {
   "cell_type": "markdown",
   "metadata": {},
   "source": [
    "In 2000, Enron was one of the largest companies in the United States. By 2002, it had collapsed into bankruptcy due to widespread corporate fraud. In the resulting Federal investigation, a significant amount of typically confidential information entered into the public record, including tens of thousands of emails and detailed financial data for top executives.\n",
    "\n",
    "The objective of this project is to build an algorithm to identify Enron Employees who may have committed fraud based on the public Enron financial and email dataset."
   ]
  },
  {
   "cell_type": "markdown",
   "metadata": {},
   "source": [
    "### Data Structure"
   ]
  },
  {
   "cell_type": "markdown",
   "metadata": {},
   "source": [
    "The dataset provided for this projection is a dictionary containing combined Enron email and financial data. The dictionary key is the person's name, and the value is another dictionary, which contains the names of all the features and their values for that person. The features in the data fall into three major types, namely financial features, email features and POI labels.\n",
    "\n",
    "financial features: ['salary', 'deferral_payments', 'total_payments', 'loan_advances', 'bonus', 'restricted_stock_deferred', 'deferred_income', 'total_stock_value', 'expenses', 'exercised_stock_options', 'other', 'long_term_incentive', 'restricted_stock', 'director_fees'] (all units are in US dollars)\n",
    "\n",
    "email features: ['to_messages', 'email_address', 'from_poi_to_this_person', 'from_messages', 'from_this_person_to_poi', 'shared_receipt_with_poi'] (units are generally number of emails messages; notable exception is ‘email_address’, which is a text string)\n",
    "\n",
    "POI label: [‘poi’] (boolean, represented as integer)"
   ]
  },
  {
   "cell_type": "markdown",
   "metadata": {},
   "source": [
    "### Report Structure"
   ]
  },
  {
   "cell_type": "markdown",
   "metadata": {},
   "source": [
    "Report outlines the model development process in the following order:\n",
    "\n",
    "* Data exploration\n",
    "* Outlier detection"
   ]
  },
  {
   "cell_type": "markdown",
   "metadata": {},
   "source": [
    "## Data Exploration"
   ]
  },
  {
   "cell_type": "markdown",
   "metadata": {},
   "source": [
    "Text...."
   ]
  },
  {
   "cell_type": "code",
   "execution_count": 1,
   "metadata": {
    "collapsed": false
   },
   "outputs": [],
   "source": [
    "%matplotlib inline\n",
    "import numpy as np\n",
    "import pandas as pd\n",
    "import pickle\n",
    "from ggplot import *\n",
    "from feature_format import featureFormat, targetFeatureSplit"
   ]
  },
  {
   "cell_type": "code",
   "execution_count": 2,
   "metadata": {
    "collapsed": true
   },
   "outputs": [],
   "source": [
    "## initiate seaborn plotting\n",
    "import matplotlib.pyplot as plt\n",
    "import seaborn as sns\n",
    "p = sns.color_palette()"
   ]
  },
  {
   "cell_type": "code",
   "execution_count": 86,
   "metadata": {
    "collapsed": false
   },
   "outputs": [],
   "source": [
    "## import dataset\n",
    "with open(\"final_project_dataset.pkl\", \"rb\") as data_file:\n",
    "    my_dataset = pickle.load(data_file)"
   ]
  },
  {
   "cell_type": "code",
   "execution_count": 88,
   "metadata": {
    "collapsed": true
   },
   "outputs": [],
   "source": [
    "df = pd.DataFrame.from_dict(my_dataset,orient='index')\n",
    "df = df.replace('NaN',np.nan)"
   ]
  },
  {
   "cell_type": "markdown",
   "metadata": {},
   "source": [
    "### Outlier Detection"
   ]
  },
  {
   "cell_type": "code",
   "execution_count": 89,
   "metadata": {
    "collapsed": false
   },
   "outputs": [],
   "source": [
    "df['name'] = df.index\n",
    "df = df.reset_index()\n",
    "df['index'] = df.index"
   ]
  },
  {
   "cell_type": "code",
   "execution_count": 90,
   "metadata": {
    "collapsed": false
   },
   "outputs": [
    {
     "data": {
      "text/html": [
       "<div>\n",
       "<table border=\"1\" class=\"dataframe\">\n",
       "  <thead>\n",
       "    <tr style=\"text-align: right;\">\n",
       "      <th></th>\n",
       "      <th>index</th>\n",
       "      <th>to_messages</th>\n",
       "      <th>restricted_stock_deferred</th>\n",
       "      <th>poi</th>\n",
       "      <th>deferred_income</th>\n",
       "      <th>salary</th>\n",
       "      <th>total_stock_value</th>\n",
       "      <th>expenses</th>\n",
       "      <th>deferral_payments</th>\n",
       "      <th>director_fees</th>\n",
       "      <th>...</th>\n",
       "      <th>from_poi_to_this_person</th>\n",
       "      <th>long_term_incentive</th>\n",
       "      <th>from_this_person_to_poi</th>\n",
       "      <th>total_payments</th>\n",
       "      <th>exercised_stock_options</th>\n",
       "      <th>other</th>\n",
       "      <th>from_messages</th>\n",
       "      <th>bonus</th>\n",
       "      <th>shared_receipt_with_poi</th>\n",
       "      <th>name</th>\n",
       "    </tr>\n",
       "  </thead>\n",
       "  <tbody>\n",
       "    <tr>\n",
       "      <th>0</th>\n",
       "      <td>0</td>\n",
       "      <td>2902</td>\n",
       "      <td>-126027</td>\n",
       "      <td>False</td>\n",
       "      <td>-3081055</td>\n",
       "      <td>201955</td>\n",
       "      <td>1729541</td>\n",
       "      <td>13868</td>\n",
       "      <td>2869717</td>\n",
       "      <td>NaN</td>\n",
       "      <td>...</td>\n",
       "      <td>47</td>\n",
       "      <td>304805</td>\n",
       "      <td>65</td>\n",
       "      <td>4484442</td>\n",
       "      <td>1729541</td>\n",
       "      <td>152</td>\n",
       "      <td>2195</td>\n",
       "      <td>4175000</td>\n",
       "      <td>1407</td>\n",
       "      <td>ALLEN PHILLIP K</td>\n",
       "    </tr>\n",
       "    <tr>\n",
       "      <th>1</th>\n",
       "      <td>1</td>\n",
       "      <td>NaN</td>\n",
       "      <td>NaN</td>\n",
       "      <td>False</td>\n",
       "      <td>NaN</td>\n",
       "      <td>NaN</td>\n",
       "      <td>257817</td>\n",
       "      <td>3486</td>\n",
       "      <td>178980</td>\n",
       "      <td>NaN</td>\n",
       "      <td>...</td>\n",
       "      <td>NaN</td>\n",
       "      <td>NaN</td>\n",
       "      <td>NaN</td>\n",
       "      <td>182466</td>\n",
       "      <td>257817</td>\n",
       "      <td>NaN</td>\n",
       "      <td>NaN</td>\n",
       "      <td>NaN</td>\n",
       "      <td>NaN</td>\n",
       "      <td>BADUM JAMES P</td>\n",
       "    </tr>\n",
       "    <tr>\n",
       "      <th>2</th>\n",
       "      <td>2</td>\n",
       "      <td>566</td>\n",
       "      <td>-560222</td>\n",
       "      <td>False</td>\n",
       "      <td>-5104</td>\n",
       "      <td>477</td>\n",
       "      <td>5243487</td>\n",
       "      <td>56301</td>\n",
       "      <td>NaN</td>\n",
       "      <td>NaN</td>\n",
       "      <td>...</td>\n",
       "      <td>39</td>\n",
       "      <td>NaN</td>\n",
       "      <td>0</td>\n",
       "      <td>916197</td>\n",
       "      <td>4046157</td>\n",
       "      <td>864523</td>\n",
       "      <td>29</td>\n",
       "      <td>NaN</td>\n",
       "      <td>465</td>\n",
       "      <td>BANNANTINE JAMES M</td>\n",
       "    </tr>\n",
       "    <tr>\n",
       "      <th>3</th>\n",
       "      <td>3</td>\n",
       "      <td>NaN</td>\n",
       "      <td>NaN</td>\n",
       "      <td>False</td>\n",
       "      <td>-1386055</td>\n",
       "      <td>267102</td>\n",
       "      <td>10623258</td>\n",
       "      <td>11200</td>\n",
       "      <td>1295738</td>\n",
       "      <td>NaN</td>\n",
       "      <td>...</td>\n",
       "      <td>NaN</td>\n",
       "      <td>1586055</td>\n",
       "      <td>NaN</td>\n",
       "      <td>5634343</td>\n",
       "      <td>6680544</td>\n",
       "      <td>2660303</td>\n",
       "      <td>NaN</td>\n",
       "      <td>1200000</td>\n",
       "      <td>NaN</td>\n",
       "      <td>BAXTER JOHN C</td>\n",
       "    </tr>\n",
       "    <tr>\n",
       "      <th>4</th>\n",
       "      <td>4</td>\n",
       "      <td>NaN</td>\n",
       "      <td>-82782</td>\n",
       "      <td>False</td>\n",
       "      <td>-201641</td>\n",
       "      <td>239671</td>\n",
       "      <td>63014</td>\n",
       "      <td>129142</td>\n",
       "      <td>260455</td>\n",
       "      <td>NaN</td>\n",
       "      <td>...</td>\n",
       "      <td>NaN</td>\n",
       "      <td>NaN</td>\n",
       "      <td>NaN</td>\n",
       "      <td>827696</td>\n",
       "      <td>NaN</td>\n",
       "      <td>69</td>\n",
       "      <td>NaN</td>\n",
       "      <td>400000</td>\n",
       "      <td>NaN</td>\n",
       "      <td>BAY FRANKLIN R</td>\n",
       "    </tr>\n",
       "  </tbody>\n",
       "</table>\n",
       "<p>5 rows × 23 columns</p>\n",
       "</div>"
      ],
      "text/plain": [
       "   index  to_messages  restricted_stock_deferred    poi  deferred_income  \\\n",
       "0      0         2902                    -126027  False         -3081055   \n",
       "1      1          NaN                        NaN  False              NaN   \n",
       "2      2          566                    -560222  False            -5104   \n",
       "3      3          NaN                        NaN  False         -1386055   \n",
       "4      4          NaN                     -82782  False          -201641   \n",
       "\n",
       "   salary  total_stock_value  expenses  deferral_payments  director_fees  \\\n",
       "0  201955            1729541     13868            2869717            NaN   \n",
       "1     NaN             257817      3486             178980            NaN   \n",
       "2     477            5243487     56301                NaN            NaN   \n",
       "3  267102           10623258     11200            1295738            NaN   \n",
       "4  239671              63014    129142             260455            NaN   \n",
       "\n",
       "          ...          from_poi_to_this_person long_term_incentive  \\\n",
       "0         ...                               47              304805   \n",
       "1         ...                              NaN                 NaN   \n",
       "2         ...                               39                 NaN   \n",
       "3         ...                              NaN             1586055   \n",
       "4         ...                              NaN                 NaN   \n",
       "\n",
       "   from_this_person_to_poi  total_payments  exercised_stock_options    other  \\\n",
       "0                       65         4484442                  1729541      152   \n",
       "1                      NaN          182466                   257817      NaN   \n",
       "2                        0          916197                  4046157   864523   \n",
       "3                      NaN         5634343                  6680544  2660303   \n",
       "4                      NaN          827696                      NaN       69   \n",
       "\n",
       "   from_messages    bonus  shared_receipt_with_poi                name  \n",
       "0           2195  4175000                     1407     ALLEN PHILLIP K  \n",
       "1            NaN      NaN                      NaN       BADUM JAMES P  \n",
       "2             29      NaN                      465  BANNANTINE JAMES M  \n",
       "3            NaN  1200000                      NaN       BAXTER JOHN C  \n",
       "4            NaN   400000                      NaN      BAY FRANKLIN R  \n",
       "\n",
       "[5 rows x 23 columns]"
      ]
     },
     "execution_count": 90,
     "metadata": {},
     "output_type": "execute_result"
    }
   ],
   "source": [
    "df.head()"
   ]
  },
  {
   "cell_type": "code",
   "execution_count": 91,
   "metadata": {
    "collapsed": false
   },
   "outputs": [
    {
     "data": {
      "image/png": "[encoded data removed]",
      "text/plain": [
       "<matplotlib.figure.Figure at 0x11787fe80>"
      ]
     },
     "metadata": {},
     "output_type": "display_data"
    },
    {
     "data": {
      "image/png": "[encoded data removed]",
      "text/plain": [
       "<matplotlib.figure.Figure at 0x1179f8278>"
      ]
     },
     "metadata": {},
     "output_type": "display_data"
    }
   ],
   "source": [
    "sns.set_context(\"notebook\", font_scale=1.1)\n",
    "sns.set_style(\"ticks\")\n",
    "\n",
    "sns.lmplot('index', 'bonus', \n",
    "           data=df,\n",
    "           fit_reg=False, \n",
    "           scatter_kws={\"marker\": \"D\", \n",
    "                        \"s\": 100},\n",
    "          size=8);\n",
    "plt.title('Enron Dataset - Employee Bonuses');\n",
    "plt.xlabel('Index');\n",
    "plt.ylabel('Bonus');\n",
    "\n",
    "sns.lmplot('index', 'salary', \n",
    "           data=df,\n",
    "           fit_reg=False, \n",
    "           scatter_kws={\"marker\": \"D\", \n",
    "                        \"s\": 100},\n",
    "          size=8);\n",
    "plt.title('Enron Dataset - Employee Salaries');\n",
    "plt.xlabel('Index');\n",
    "plt.ylabel('Salary');"
   ]
  },
  {
   "cell_type": "code",
   "execution_count": 92,
   "metadata": {
    "collapsed": false
   },
   "outputs": [],
   "source": [
    "# remove outlier\n",
    "my_dataset.pop('TOTAL');"
   ]
  },
  {
   "cell_type": "code",
   "execution_count": 93,
   "metadata": {
    "collapsed": false
   },
   "outputs": [],
   "source": [
    "## recreate dataframe\n",
    "df = pd.DataFrame.from_dict(my_dataset,orient='index')\n",
    "df = df.replace('NaN',np.nan)"
   ]
  },
  {
   "cell_type": "code",
   "execution_count": 126,
   "metadata": {
    "collapsed": false
   },
   "outputs": [
    {
     "data": {
      "image/png": "[encoded data removed]",
      "text/plain": [
       "<matplotlib.figure.Figure at 0x11afe1320>"
      ]
     },
     "metadata": {},
     "output_type": "display_data"
    },
    {
     "data": {
      "image/png": "[encoded data removed]",
      "text/plain": [
       "<matplotlib.figure.Figure at 0x115d1bc18>"
      ]
     },
     "metadata": {},
     "output_type": "display_data"
    }
   ],
   "source": [
    "plot_df = df\n",
    "plot_df['name'] = plot_df.index\n",
    "plot_df = plot_df.reset_index()\n",
    "plot_df['index'] = plot_df.index\n",
    "\n",
    "sns.set_context(\"notebook\", font_scale=1.1)\n",
    "sns.set_style(\"ticks\")\n",
    "\n",
    "sns.lmplot('index', 'bonus', \n",
    "           data=plot_df,\n",
    "           fit_reg=False, \n",
    "           scatter_kws={\"marker\": \"D\", \n",
    "                        \"s\": 100},\n",
    "          size=8);\n",
    "plt.title('Enron Dataset - Employee Bonuses');\n",
    "plt.xlabel('Index');\n",
    "plt.ylabel('Bonus');\n",
    "\n",
    "sns.lmplot('index', 'salary', \n",
    "           data=plot_df,\n",
    "           fit_reg=False, \n",
    "           scatter_kws={\"marker\": \"D\", \n",
    "                        \"s\": 100},\n",
    "          size=8);\n",
    "plt.title('Enron Dataset - Employee Salaries');\n",
    "plt.xlabel('Index');\n",
    "plt.ylabel('Salary');"
   ]
  },
  {
   "cell_type": "code",
   "execution_count": 146,
   "metadata": {
    "collapsed": false
   },
   "outputs": [
    {
     "data": {
      "text/html": [
       "<div>\n",
       "<table border=\"1\" class=\"dataframe\">\n",
       "  <thead>\n",
       "    <tr style=\"text-align: right;\">\n",
       "      <th></th>\n",
       "      <th>bonus</th>\n",
       "      <th>salary</th>\n",
       "      <th>poi</th>\n",
       "    </tr>\n",
       "  </thead>\n",
       "  <tbody>\n",
       "    <tr>\n",
       "      <th>BELDEN TIMOTHY N</th>\n",
       "      <td>5249999</td>\n",
       "      <td>213999</td>\n",
       "      <td>1</td>\n",
       "    </tr>\n",
       "    <tr>\n",
       "      <th>FREVERT MARK A</th>\n",
       "      <td>2000000</td>\n",
       "      <td>1060932</td>\n",
       "      <td>0</td>\n",
       "    </tr>\n",
       "    <tr>\n",
       "      <th>LAVORATO JOHN J</th>\n",
       "      <td>8000000</td>\n",
       "      <td>339288</td>\n",
       "      <td>0</td>\n",
       "    </tr>\n",
       "    <tr>\n",
       "      <th>LAY KENNETH L</th>\n",
       "      <td>7000000</td>\n",
       "      <td>1072321</td>\n",
       "      <td>1</td>\n",
       "    </tr>\n",
       "    <tr>\n",
       "      <th>SKILLING JEFFREY K</th>\n",
       "      <td>5600000</td>\n",
       "      <td>1111258</td>\n",
       "      <td>1</td>\n",
       "    </tr>\n",
       "  </tbody>\n",
       "</table>\n",
       "</div>"
      ],
      "text/plain": [
       "                      bonus   salary  poi\n",
       "BELDEN TIMOTHY N    5249999   213999    1\n",
       "FREVERT MARK A      2000000  1060932    0\n",
       "LAVORATO JOHN J     8000000   339288    0\n",
       "LAY KENNETH L       7000000  1072321    1\n",
       "SKILLING JEFFREY K  5600000  1111258    1"
      ]
     },
     "execution_count": 146,
     "metadata": {},
     "output_type": "execute_result"
    }
   ],
   "source": [
    "## other potential outliers\n",
    "df[(df.salary > 1000000) | (df.bonus > 5000000)][['bonus','salary','poi']]"
   ]
  },
  {
   "cell_type": "markdown",
   "metadata": {
    "collapsed": false
   },
   "source": [
    "### Data Overview"
   ]
  },
  {
   "cell_type": "code",
   "execution_count": 94,
   "metadata": {
    "collapsed": false
   },
   "outputs": [],
   "source": [
    "# code True/False poi's as 1's and 0's\n",
    "df['poi'] = df['poi'].apply(lambda x: 1 if x else 0)"
   ]
  },
  {
   "cell_type": "code",
   "execution_count": 104,
   "metadata": {
    "collapsed": false
   },
   "outputs": [
    {
     "name": "stdout",
     "output_type": "stream",
     "text": [
      "The dataset contains a total of 18 POIs.\n"
     ]
    },
    {
     "data": {
      "image/png": "[encoded data removed]",
      "text/plain": [
       "<matplotlib.figure.Figure at 0x11ac50d30>"
      ]
     },
     "metadata": {},
     "output_type": "display_data"
    }
   ],
   "source": [
    "# total number of poi's in the dataset\n",
    "poi = df.poi.value_counts()\n",
    "\n",
    "plt.figure(figsize=(12,4));\n",
    "sns.barplot(poi.index, poi.values, alpha=0.8, color=p[2]);\n",
    "plt.xlabel('Person of Interest', fontsize=12);\n",
    "plt.ylabel('Occurence count', fontsize=12);\n",
    "\n",
    "print ('The dataset contains a total of %s POIs.' % sum(df['poi']))"
   ]
  },
  {
   "cell_type": "code",
   "execution_count": 108,
   "metadata": {
    "collapsed": false
   },
   "outputs": [
    {
     "name": "stdout",
     "output_type": "stream",
     "text": [
      "The dataset contains 145 total records, with 21 features for each record\n"
     ]
    }
   ],
   "source": [
    "print ('The dataset contains %s total records, with %s features for each record' % (df.shape[0], df.shape[1]))"
   ]
  },
  {
   "cell_type": "code",
   "execution_count": 122,
   "metadata": {
    "collapsed": false
   },
   "outputs": [
    {
     "data": {
      "text/html": [
       "<div>\n",
       "<table border=\"1\" class=\"dataframe\">\n",
       "  <thead>\n",
       "    <tr style=\"text-align: right;\">\n",
       "      <th></th>\n",
       "      <th>All Records</th>\n",
       "      <th>POIs</th>\n",
       "    </tr>\n",
       "  </thead>\n",
       "  <tbody>\n",
       "    <tr>\n",
       "      <th>to_messages</th>\n",
       "      <td>86</td>\n",
       "      <td>14</td>\n",
       "    </tr>\n",
       "    <tr>\n",
       "      <th>restricted_stock_deferred</th>\n",
       "      <td>17</td>\n",
       "      <td>0</td>\n",
       "    </tr>\n",
       "    <tr>\n",
       "      <th>poi</th>\n",
       "      <td>145</td>\n",
       "      <td>18</td>\n",
       "    </tr>\n",
       "    <tr>\n",
       "      <th>deferred_income</th>\n",
       "      <td>48</td>\n",
       "      <td>11</td>\n",
       "    </tr>\n",
       "    <tr>\n",
       "      <th>salary</th>\n",
       "      <td>94</td>\n",
       "      <td>17</td>\n",
       "    </tr>\n",
       "    <tr>\n",
       "      <th>total_stock_value</th>\n",
       "      <td>125</td>\n",
       "      <td>18</td>\n",
       "    </tr>\n",
       "    <tr>\n",
       "      <th>expenses</th>\n",
       "      <td>94</td>\n",
       "      <td>18</td>\n",
       "    </tr>\n",
       "    <tr>\n",
       "      <th>deferral_payments</th>\n",
       "      <td>38</td>\n",
       "      <td>5</td>\n",
       "    </tr>\n",
       "    <tr>\n",
       "      <th>director_fees</th>\n",
       "      <td>16</td>\n",
       "      <td>0</td>\n",
       "    </tr>\n",
       "    <tr>\n",
       "      <th>loan_advances</th>\n",
       "      <td>3</td>\n",
       "      <td>1</td>\n",
       "    </tr>\n",
       "    <tr>\n",
       "      <th>email_address</th>\n",
       "      <td>111</td>\n",
       "      <td>18</td>\n",
       "    </tr>\n",
       "    <tr>\n",
       "      <th>restricted_stock</th>\n",
       "      <td>109</td>\n",
       "      <td>17</td>\n",
       "    </tr>\n",
       "    <tr>\n",
       "      <th>from_poi_to_this_person</th>\n",
       "      <td>86</td>\n",
       "      <td>14</td>\n",
       "    </tr>\n",
       "    <tr>\n",
       "      <th>long_term_incentive</th>\n",
       "      <td>65</td>\n",
       "      <td>12</td>\n",
       "    </tr>\n",
       "    <tr>\n",
       "      <th>from_this_person_to_poi</th>\n",
       "      <td>86</td>\n",
       "      <td>14</td>\n",
       "    </tr>\n",
       "    <tr>\n",
       "      <th>total_payments</th>\n",
       "      <td>124</td>\n",
       "      <td>18</td>\n",
       "    </tr>\n",
       "    <tr>\n",
       "      <th>exercised_stock_options</th>\n",
       "      <td>101</td>\n",
       "      <td>12</td>\n",
       "    </tr>\n",
       "    <tr>\n",
       "      <th>other</th>\n",
       "      <td>92</td>\n",
       "      <td>18</td>\n",
       "    </tr>\n",
       "    <tr>\n",
       "      <th>from_messages</th>\n",
       "      <td>86</td>\n",
       "      <td>14</td>\n",
       "    </tr>\n",
       "    <tr>\n",
       "      <th>bonus</th>\n",
       "      <td>81</td>\n",
       "      <td>16</td>\n",
       "    </tr>\n",
       "    <tr>\n",
       "      <th>shared_receipt_with_poi</th>\n",
       "      <td>86</td>\n",
       "      <td>14</td>\n",
       "    </tr>\n",
       "  </tbody>\n",
       "</table>\n",
       "</div>"
      ],
      "text/plain": [
       "                           All Records  POIs\n",
       "to_messages                         86    14\n",
       "restricted_stock_deferred           17     0\n",
       "poi                                145    18\n",
       "deferred_income                     48    11\n",
       "salary                              94    17\n",
       "total_stock_value                  125    18\n",
       "expenses                            94    18\n",
       "deferral_payments                   38     5\n",
       "director_fees                       16     0\n",
       "loan_advances                        3     1\n",
       "email_address                      111    18\n",
       "restricted_stock                   109    17\n",
       "from_poi_to_this_person             86    14\n",
       "long_term_incentive                 65    12\n",
       "from_this_person_to_poi             86    14\n",
       "total_payments                     124    18\n",
       "exercised_stock_options            101    12\n",
       "other                               92    18\n",
       "from_messages                       86    14\n",
       "bonus                               81    16\n",
       "shared_receipt_with_poi             86    14"
      ]
     },
     "execution_count": 122,
     "metadata": {},
     "output_type": "execute_result"
    }
   ],
   "source": [
    "# df.describe(include = 'all')\n",
    "all = df.count()\n",
    "\n",
    "## features counts for the poi's\n",
    "pois = df[df['poi'] == 1].count()\n",
    "\n",
    "result = pd.concat([all, pois], axis=1)\n",
    "result.columns = ['All Records','POIs']\n",
    "result"
   ]
  },
  {
   "cell_type": "markdown",
   "metadata": {
    "collapsed": true
   },
   "source": [
    "### Selected Features"
   ]
  },
  {
   "cell_type": "markdown",
   "metadata": {
    "collapsed": true
   },
   "source": [
    "write-up... restricted_stock_deferred, director_fees, loan_advances and deferral_payments"
   ]
  },
  {
   "cell_type": "code",
   "execution_count": 123,
   "metadata": {
    "collapsed": false
   },
   "outputs": [
    {
     "data": {
      "text/plain": [
       "Index(['to_messages', 'restricted_stock_deferred', 'poi', 'deferred_income',\n",
       "       'salary', 'total_stock_value', 'expenses', 'deferral_payments',\n",
       "       'director_fees', 'loan_advances', 'email_address', 'restricted_stock',\n",
       "       'from_poi_to_this_person', 'long_term_incentive',\n",
       "       'from_this_person_to_poi', 'total_payments', 'exercised_stock_options',\n",
       "       'other', 'from_messages', 'bonus', 'shared_receipt_with_poi'],\n",
       "      dtype='object')"
      ]
     },
     "execution_count": 123,
     "metadata": {},
     "output_type": "execute_result"
    }
   ],
   "source": [
    "df.columns"
   ]
  },
  {
   "cell_type": "markdown",
   "metadata": {},
   "source": [
    "# Modelling"
   ]
  },
  {
   "cell_type": "code",
   "execution_count": 9,
   "metadata": {
    "collapsed": false
   },
   "outputs": [],
   "source": [
    "from sklearn.pipeline import Pipeline\n",
    "from sklearn import svm\n",
    "from sklearn.grid_search import GridSearchCV\n",
    "from sklearn.neighbors import KNeighborsClassifier\n",
    "from sklearn.ensemble import RandomForestClassifier\n",
    "from sklearn.preprocessing import StandardScaler\n",
    "from sklearn.cross_validation import train_test_split\n",
    "from sklearn.decomposition import PCA\n",
    "import tester"
   ]
  },
  {
   "cell_type": "code",
   "execution_count": 10,
   "metadata": {
    "collapsed": true
   },
   "outputs": [],
   "source": [
    "features_list = ['to_messages', 'poi', 'deferred_income',\n",
    "       'salary', 'total_stock_value', 'expenses', 'email_address', 'restricted_stock',\n",
    "       'from_poi_to_this_person', 'long_term_incentive',\n",
    "       'from_this_person_to_poi', 'total_payments', 'exercised_stock_options',\n",
    "       'other', 'from_messages', 'bonus', 'shared_receipt_with_poi'] "
   ]
  },
  {
   "cell_type": "code",
   "execution_count": 11,
   "metadata": {
    "collapsed": false
   },
   "outputs": [],
   "source": [
    "data = featureFormat(my_dataset, features_list, sort_keys = True)\n",
    "labels, features = targetFeatureSplit(data)"
   ]
  },
  {
   "cell_type": "code",
   "execution_count": null,
   "metadata": {
    "collapsed": true
   },
   "outputs": [],
   "source": []
  },
  {
   "cell_type": "code",
   "execution_count": null,
   "metadata": {
    "collapsed": true
   },
   "outputs": [],
   "source": []
  },
  {
   "cell_type": "code",
   "execution_count": 13,
   "metadata": {
    "collapsed": false
   },
   "outputs": [],
   "source": [
    "### SVM Model\n",
    "pca_svm = Pipeline([('pca',PCA(n_components=2)),('scaler',StandardScaler()),('svm',svm.SVC())])\n",
    "param_grid = ([{'svm__C': [1000,10000],\n",
    "                'svm__gamma': [0.01,0.0001],\n",
    "                'svm__degree':[2,3],\n",
    "                'svm__kernel': ['linear','rbf','poly']}])\n",
    "\n",
    "svm_clf = GridSearchCV(pca_svm,param_grid,scoring='recall').fit(features,labels).best_estimator_\n",
    "\n",
    "\n",
    "# ### KNB Model\n",
    "# pca_knb = Pipeline([('pca',PCA(n_components=2)),('scaler',StandardScaler()),('knb',KNeighborsClassifier())])\n",
    "# param_grid = ([{'knb__n_neighbors': [4,5,6]}])\n",
    "# knb_clf = GridSearchCV(pca_knb,param_grid,scoring='recall').fit(features,labels).best_estimator_\n",
    "\n",
    "\n",
    "# ### RFST Model\n",
    "# pca_rfst = Pipeline([('pca',PCA(n_components=2)),('scaler',StandardScaler()),\n",
    "#                  ('rfst',RandomForestClassifier())])\n",
    "# param_grid = ([{'rfst__n_estimators': [4,5,6]}])\n",
    "# rfst_clf = GridSearchCV(pca_rfst,param_grid,scoring='recall').fit(features,labels).best_estimator_"
   ]
  },
  {
   "cell_type": "code",
   "execution_count": 14,
   "metadata": {
    "collapsed": false
   },
   "outputs": [
    {
     "name": "stdout",
     "output_type": "stream",
     "text": [
      "Pipeline(steps=[('pca', PCA(copy=True, n_components=2, whiten=False)), ('scaler', StandardScaler(copy=True, with_mean=True, with_std=True)), ('svm', SVC(C=1000, cache_size=200, class_weight=None, coef0=0.0,\n",
      "  decision_function_shape=None, degree=2, gamma=0.01, kernel='rbf',\n",
      "  max_iter=-1, probability=False, random_state=None, shrinking=True,\n",
      "  tol=0.001, verbose=False))])\n",
      "Pipeline(steps=[('pca', PCA(copy=True, n_components=2, whiten=False)), ('scaler', StandardScaler(copy=True, with_mean=True, with_std=True)), ('svm', SVC(C=1000, cache_size=200, class_weight=None, coef0=0.0,\n",
      "  decision_function_shape=None, degree=2, gamma=0.01, kernel='rbf',\n",
      "  max_iter=-1, probability=False, random_state=None, shrinking=True,\n",
      "  tol=0.001, verbose=False))])\n",
      "\tAccuracy: 0.88927\tPrecision: 0.81682\tRecall: 0.21850\tF1: 0.34477\tF2: 0.25600\n",
      "\tTotal predictions: 15000\tTrue positives:  437\tFalse positives:   98\tFalse negatives: 1563\tTrue negatives: 12902\n",
      "\n"
     ]
    }
   ],
   "source": [
    "print (svm_clf)\n",
    "tester.test_classifier(svm_clf,my_dataset,features_list)\n",
    "\n",
    "# print (knb_clf)\n",
    "# tester.test_classifier(knb_clf,my_dataset,features_list)\n",
    "\n",
    "# print (rfst_clf)\n",
    "# tester.test_classifier(rfst_clf,my_dataset,features_list)"
   ]
  },
  {
   "cell_type": "code",
   "execution_count": null,
   "metadata": {
    "collapsed": true
   },
   "outputs": [],
   "source": []
  }
 ],
 "metadata": {
  "kernelspec": {
   "display_name": "Python 3",
   "language": "python",
   "name": "python3"
  },
  "language_info": {
   "codemirror_mode": {
    "name": "ipython",
    "version": 3
   },
   "file_extension": ".py",
   "mimetype": "text/x-python",
   "name": "python",
   "nbconvert_exporter": "python",
   "pygments_lexer": "ipython3",
   "version": "3.5.2"
  }
 },
 "nbformat": 4,
 "nbformat_minor": 0
}
